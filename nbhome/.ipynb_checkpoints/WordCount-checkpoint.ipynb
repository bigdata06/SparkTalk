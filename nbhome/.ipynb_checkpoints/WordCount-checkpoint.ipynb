{
 "metadata": {
  "name": "",
  "signature": "sha256:a812ac3ef4a5cdc32bec943096c4600bf2c61d2a1af968ea0333d49832c97ba9"
 },
 "nbformat": 3,
 "nbformat_minor": 0,
 "worksheets": [
  {
   "cells": [
    {
     "cell_type": "code",
     "collapsed": false,
     "input": [
      "type(sc)"
     ],
     "language": "python",
     "metadata": {},
     "outputs": [
      {
       "metadata": {},
       "output_type": "pyout",
       "prompt_number": 1,
       "text": [
        "pyspark.context.SparkContext"
       ]
      }
     ],
     "prompt_number": 1
    },
    {
     "cell_type": "code",
     "collapsed": false,
     "input": [
      "print sc.__doc__"
     ],
     "language": "python",
     "metadata": {},
     "outputs": [
      {
       "output_type": "stream",
       "stream": "stdout",
       "text": [
        "\n",
        "    Main entry point for Spark functionality. A SparkContext represents the\n",
        "    connection to a Spark cluster, and can be used to create L{RDD} and\n",
        "    broadcast variables on that cluster.\n",
        "    \n"
       ]
      }
     ],
     "prompt_number": 2
    },
    {
     "cell_type": "code",
     "collapsed": false,
     "input": [
      "beowulf = sc.textFile('beowulf.txt.gz', 10).cache()"
     ],
     "language": "python",
     "metadata": {},
     "outputs": [],
     "prompt_number": 3
    },
    {
     "cell_type": "code",
     "collapsed": false,
     "input": [
      "type(beowulf)"
     ],
     "language": "python",
     "metadata": {},
     "outputs": [
      {
       "metadata": {},
       "output_type": "pyout",
       "prompt_number": 4,
       "text": [
        "pyspark.rdd.RDD"
       ]
      }
     ],
     "prompt_number": 4
    },
    {
     "cell_type": "code",
     "collapsed": false,
     "input": [
      "print beowulf.__doc__"
     ],
     "language": "python",
     "metadata": {},
     "outputs": [
      {
       "output_type": "stream",
       "stream": "stdout",
       "text": [
        "\n",
        "    A Resilient Distributed Dataset (RDD), the basic abstraction in Spark.\n",
        "    Represents an immutable, partitioned collection of elements that can be\n",
        "    operated on in parallel.\n",
        "    \n"
       ]
      }
     ],
     "prompt_number": 5
    },
    {
     "cell_type": "code",
     "collapsed": false,
     "input": [
      "beowulf.take(10)"
     ],
     "language": "python",
     "metadata": {},
     "outputs": [
      {
       "metadata": {},
       "output_type": "pyout",
       "prompt_number": 6,
       "text": [
        "[u'Beowulf',\n",
        " u'Translation by Seamus Heaney',\n",
        " u'',\n",
        " u'',\n",
        " u'So.  The Spear-Danes in days gone by',\n",
        " u'And the kings who ruled them had courage and greatness.',\n",
        " u'We have heard of those princes\\u2019 heroic campaigns.',\n",
        " u'',\n",
        " u'',\n",
        " u'There was Shield Sheafson, scourge of many tribes,']"
       ]
      }
     ],
     "prompt_number": 6
    },
    {
     "cell_type": "code",
     "collapsed": false,
     "input": [
      "beowulf.count()"
     ],
     "language": "python",
     "metadata": {},
     "outputs": [
      {
       "metadata": {},
       "output_type": "pyout",
       "prompt_number": 7,
       "text": [
        "3623"
       ]
      }
     ],
     "prompt_number": 7
    },
    {
     "cell_type": "code",
     "collapsed": false,
     "input": [
      "beowulf.flatMap(lambda x: x.split()).count()"
     ],
     "language": "python",
     "metadata": {},
     "outputs": [
      {
       "metadata": {},
       "output_type": "pyout",
       "prompt_number": 8,
       "text": [
        "24157"
       ]
      }
     ],
     "prompt_number": 8
    },
    {
     "cell_type": "code",
     "collapsed": false,
     "input": [
      "from nltk.corpus import stopwords\n",
      "englishStopWords = stopwords.words('english')\n",
      "mostUsedWords = beowulf\\\n",
      "    .flatMap(lambda x: [x.lower() for x in x.split()])\\\n",
      "    .filter(lambda x: x not in englishStopWords)\\\n",
      "    .map(lambda x: (x, 1))\\\n",
      "    .reduceByKey(lambda x, y: x + y)\\\n",
      "    .sortBy(lambda (_ , count): - count)\\\n",
      "    .take(20)\n",
      "mostUsedWords"
     ],
     "language": "python",
     "metadata": {},
     "outputs": [
      {
       "metadata": {},
       "output_type": "pyout",
       "prompt_number": 9,
       "text": [
        "[(u'would', 82),\n",
        " (u'one', 72),\n",
        " (u'man', 65),\n",
        " (u'could', 59),\n",
        " (u'lord', 50),\n",
        " (u'king', 50),\n",
        " (u'came', 45),\n",
        " (u'beowulf', 45),\n",
        " (u'son', 42),\n",
        " (u'long', 39),\n",
        " (u'people', 38),\n",
        " (u'sword', 35),\n",
        " (u'men', 34),\n",
        " (u'life', 34),\n",
        " (u'never', 34),\n",
        " (u'prince', 34),\n",
        " (u'old', 32),\n",
        " (u'time', 31),\n",
        " (u'come', 31),\n",
        " (u'good', 31)]"
       ]
      }
     ],
     "prompt_number": 9
    },
    {
     "cell_type": "code",
     "collapsed": false,
     "input": [
      "%pylab inline"
     ],
     "language": "python",
     "metadata": {},
     "outputs": [
      {
       "output_type": "stream",
       "stream": "stdout",
       "text": [
        "Populating the interactive namespace from numpy and matplotlib\n"
       ]
      }
     ],
     "prompt_number": 10
    },
    {
     "cell_type": "code",
     "collapsed": false,
     "input": [
      "xticks = range(len(mostUsedWords))\n",
      "plt.bar(xticks, [i for _, i in mostUsedWords])\n",
      "plt.xticks(xticks, [w for w, _ in mostUsedWords], ha='center', rotation=50)\n",
      "None"
     ],
     "language": "python",
     "metadata": {},
     "outputs": [
      {
       "metadata": {},
       "output_type": "display_data",
       "png": "[encoded data removed]",
       "text": [
        "<matplotlib.figure.Figure at 0x7f75b73eead0>"
       ]
      }
     ],
     "prompt_number": 11
    }
   ],
   "metadata": {}
  }
 ]
}