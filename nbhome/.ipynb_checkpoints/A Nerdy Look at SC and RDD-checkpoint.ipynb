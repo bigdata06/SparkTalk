{
 "metadata": {
  "name": "",
  "signature": "sha256:8e51658a460a9e6843a780086be4d848d9b56d05fa4538d6293a63195a5b2ecc"
 },
 "nbformat": 3,
 "nbformat_minor": 0,
 "worksheets": [
  {
   "cells": [
    {
     "cell_type": "code",
     "collapsed": false,
     "input": [
      "from types import MethodType\n",
      "def showMethods(what):\n",
      "    \"\"\"Prints out all non-private methods of class-instance what.\"\"\"\n",
      "    for attr in dir(what):\n",
      "        if attr.startswith(\"_\"):\n",
      "            continue\n",
      "        if type(getattr(what, attr)) == MethodType:\n",
      "            print attr, getattr(what, attr).__doc__, \"\\n\""
     ],
     "language": "python",
     "metadata": {},
     "outputs": []
    },
    {
     "cell_type": "code",
     "collapsed": false,
     "input": [
      "showMethods(sc)"
     ],
     "language": "python",
     "metadata": {},
     "outputs": []
    },
    {
     "cell_type": "code",
     "collapsed": false,
     "input": [
      "rdd = sc.parallelize([1])\n",
      "showMethods(rdd)"
     ],
     "language": "python",
     "metadata": {},
     "outputs": []
    },
    {
     "cell_type": "code",
     "collapsed": false,
     "input": [],
     "language": "python",
     "metadata": {},
     "outputs": []
    }
   ],
   "metadata": {}
  }
 ]
}