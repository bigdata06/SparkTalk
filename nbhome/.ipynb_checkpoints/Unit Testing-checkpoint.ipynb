{
 "metadata": {
  "name": "",
  "signature": "sha256:f6b757670cf19a94f6a9b8b53eb2c1e86475e8859df5f31c9bbdbb5f38e479a5"
 },
 "nbformat": 3,
 "nbformat_minor": 0,
 "worksheets": [
  {
   "cells": [
    {
     "cell_type": "code",
     "collapsed": false,
     "input": [
      "sc.stop() # There can be only one SparkContext!"
     ],
     "language": "python",
     "metadata": {},
     "outputs": [],
     "prompt_number": 1
    },
    {
     "cell_type": "code",
     "collapsed": false,
     "input": [
      "import unittest"
     ],
     "language": "python",
     "metadata": {},
     "outputs": [],
     "prompt_number": 2
    },
    {
     "cell_type": "code",
     "collapsed": false,
     "input": [
      "from customer import Customer"
     ],
     "language": "python",
     "metadata": {},
     "outputs": [],
     "prompt_number": 3
    },
    {
     "cell_type": "code",
     "collapsed": false,
     "input": [
      "c = Customer(1000)\n",
      "c.balance, c.transactions"
     ],
     "language": "python",
     "metadata": {},
     "outputs": [
      {
       "metadata": {},
       "output_type": "pyout",
       "prompt_number": 4,
       "text": [
        "(1000, [1000])"
       ]
      }
     ],
     "prompt_number": 4
    },
    {
     "cell_type": "code",
     "collapsed": false,
     "input": [
      "class CustomerTests(unittest.TestCase):\n",
      "    def setUp(self):\n",
      "        self.sc = SparkContext(\"local\")\n",
      "        self.sc.addPyFile(\"customer.py\")\n",
      "    def tearDown(self):\n",
      "        self.sc.stop()\n",
      "    def test_CustomerStartsZeroBalance(self):\n",
      "        customers = self.sc.parallelize([Customer()])\n",
      "        for customer in customers.collect():\n",
      "            self.assertEqual(customer.balance, 0)\n",
      "    def test_DepositAddsToBalance(self):\n",
      "        customers = self.sc.parallelize([Customer()])\\\n",
      "            .map(lambda x: x.deposit(1000))\n",
      "        for customer in customers.collect():\n",
      "            self.assertEqual(customer.balance, 1000)\n",
      "    def test_CustomerWithBalanceStartsWithRightBalance(self):\n",
      "        customers = self.sc.parallelize([Customer(1000)])\n",
      "        for customer in customers.collect():\n",
      "            self.assertEqual(customer.balance, 1000)\n",
      "    def test_CustomerWithBalanceStartsWithOneTransaction(self):\n",
      "        customers = self.sc.parallelize([Customer(1000)])\n",
      "        for customer in customers.collect():\n",
      "            self.assertEqual(len(customer.transactions), 1)"
     ],
     "language": "python",
     "metadata": {},
     "outputs": [],
     "prompt_number": 5
    },
    {
     "cell_type": "markdown",
     "metadata": {},
     "source": [
      "# That's why you unit test!"
     ]
    },
    {
     "cell_type": "code",
     "collapsed": false,
     "input": [
      "testLoader = unittest.TestLoader().loadTestsFromTestCase(CustomerTests)\n",
      "unittest.TextTestRunner(verbosity=3,stream=sys.stdout).run(testLoader)"
     ],
     "language": "python",
     "metadata": {},
     "outputs": [
      {
       "output_type": "stream",
       "stream": "stdout",
       "text": [
        "test_CustomerStartsZeroBalance (__main__.CustomerTests) ... "
       ]
      },
      {
       "output_type": "stream",
       "stream": "stdout",
       "text": [
        "ok\n",
        "test_CustomerWithBalanceStartsWithOneTransaction (__main__.CustomerTests) ... "
       ]
      },
      {
       "output_type": "stream",
       "stream": "stdout",
       "text": [
        "FAIL\n",
        "test_CustomerWithBalanceStartsWithRightBalance (__main__.CustomerTests)"
       ]
      },
      {
       "output_type": "stream",
       "stream": "stdout",
       "text": [
        " ... "
       ]
      },
      {
       "output_type": "stream",
       "stream": "stdout",
       "text": [
        "ok\n",
        "test_DepositAddsToBalance (__main__.CustomerTests) ... "
       ]
      },
      {
       "output_type": "stream",
       "stream": "stdout",
       "text": [
        "ok\n",
        "\n",
        "======================================================================\n",
        "FAIL: test_CustomerWithBalanceStartsWithOneTransaction (__main__.CustomerTests)\n",
        "----------------------------------------------------------------------\n",
        "Traceback (most recent call last):\n",
        "  File \"<ipython-input-5-5e0243beb7dc>\", line 22, in test_CustomerWithBalanceStartsWithOneTransaction\n",
        "    self.assertEqual(len(customer.transactions), 1)\n",
        "AssertionError: 2 != 1\n",
        "\n",
        "----------------------------------------------------------------------\n",
        "Ran 4 tests in 5.135s\n",
        "\n",
        "FAILED (failures=1)\n"
       ]
      },
      {
       "metadata": {},
       "output_type": "pyout",
       "prompt_number": 6,
       "text": [
        "<unittest.runner.TextTestResult run=4 errors=0 failures=1>"
       ]
      }
     ],
     "prompt_number": 6
    },
    {
     "cell_type": "code",
     "collapsed": false,
     "input": [
      "c = Customer(123)"
     ],
     "language": "python",
     "metadata": {},
     "outputs": [],
     "prompt_number": 7
    },
    {
     "cell_type": "markdown",
     "metadata": {},
     "source": [
      "# Take home message:\n",
      "Mutable types as default arguments are evil:"
     ]
    },
    {
     "cell_type": "code",
     "collapsed": false,
     "input": [
      "c.transactions"
     ],
     "language": "python",
     "metadata": {},
     "outputs": [
      {
       "metadata": {},
       "output_type": "pyout",
       "prompt_number": 8,
       "text": [
        "[1000, 1000, 1000, 123]"
       ]
      }
     ],
     "prompt_number": 8
    }
   ],
   "metadata": {}
  }
 ]
}