{
 "metadata": {
  "name": "",
  "signature": "sha256:75dd5e30d24d3a91d1be629aa7e59a58d2f62dbed50b080a7c375347bd445310"
 },
 "nbformat": 3,
 "nbformat_minor": 0,
 "worksheets": [
  {
   "cells": [
    {
     "cell_type": "code",
     "collapsed": false,
     "input": [
      "sc.stop()"
     ],
     "language": "python",
     "metadata": {},
     "outputs": []
    },
    {
     "cell_type": "code",
     "collapsed": false,
     "input": [
      "import unittest"
     ],
     "language": "python",
     "metadata": {},
     "outputs": []
    },
    {
     "cell_type": "code",
     "collapsed": false,
     "input": [
      "from customer import Customer"
     ],
     "language": "python",
     "metadata": {},
     "outputs": []
    },
    {
     "cell_type": "code",
     "collapsed": false,
     "input": [
      "c = Customer(1000)\n",
      "c.balance, c.transactions"
     ],
     "language": "python",
     "metadata": {},
     "outputs": []
    },
    {
     "cell_type": "code",
     "collapsed": false,
     "input": [
      "sc1 = SparkContext()"
     ],
     "language": "python",
     "metadata": {},
     "outputs": []
    },
    {
     "cell_type": "code",
     "collapsed": false,
     "input": [
      "sc1.stop()\n",
      "sc2 = SparkContext()"
     ],
     "language": "python",
     "metadata": {},
     "outputs": []
    },
    {
     "cell_type": "code",
     "collapsed": false,
     "input": [
      "class CustomerTests(unittest.TestCase):\n",
      "    def setUp(self):\n",
      "        self.sc = SparkContext(\"local\")\n",
      "        self.sc.addPyFile(\"customer.py\")\n",
      "    def tearDown(self):\n",
      "        self.sc.stop()\n",
      "    def test_CustomerStartsZeroBalance(self):\n",
      "        customers = self.sc.parallelize([Customer()])\n",
      "        for customer in customers.collect():\n",
      "            self.assertEqual(customer.balance, 0)\n",
      "    def test_DepositAddsToBalance(self):\n",
      "        customers = self.sc.parallelize([Customer()])\\\n",
      "            .map(lambda x: x.deposit(1000))\n",
      "        for customer in customers.collect():\n",
      "            self.assertEqual(customer.balance, 1000)\n",
      "    def test_CustomerWithBalanceStartsWithRightBalance(self):\n",
      "        customers = self.sc.parallelize([Customer(1000)])\n",
      "        for customer in customers.collect():\n",
      "            self.assertEqual(customer.balance, 1000)\n",
      "    def test_CustomerWithBalanceStartsWithOneTransaction(self):\n",
      "        customers = self.sc.parallelize([Customer(1000)])\n",
      "        for customer in customers.collect():\n",
      "            self.assertEqual(len(customer.transactions), 1)"
     ],
     "language": "python",
     "metadata": {},
     "outputs": []
    },
    {
     "cell_type": "code",
     "collapsed": false,
     "input": [
      "testLoader = unittest.TestLoader().loadTestsFromTestCase(CustomerTests)\n",
      "unittest.TextTestRunner(verbosity=3,stream=sys.stdout).run(testLoader)"
     ],
     "language": "python",
     "metadata": {},
     "outputs": []
    },
    {
     "cell_type": "code",
     "collapsed": false,
     "input": [
      "c = Customer(123)"
     ],
     "language": "python",
     "metadata": {},
     "outputs": []
    },
    {
     "cell_type": "code",
     "collapsed": false,
     "input": [
      "c.transactions"
     ],
     "language": "python",
     "metadata": {},
     "outputs": []
    },
    {
     "cell_type": "code",
     "collapsed": false,
     "input": [],
     "language": "python",
     "metadata": {},
     "outputs": []
    }
   ],
   "metadata": {}
  }
 ]
}