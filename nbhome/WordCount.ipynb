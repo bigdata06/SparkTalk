{
 "metadata": {
  "name": "",
  "signature": "sha256:99746d805cfb7bd5b90fab91c37e65d8a0a395a0aac58079d1bef05593edeb56"
 },
 "nbformat": 3,
 "nbformat_minor": 0,
 "worksheets": [
  {
   "cells": [
    {
     "cell_type": "code",
     "collapsed": false,
     "input": [
      "type(sc)"
     ],
     "language": "python",
     "metadata": {},
     "outputs": []
    },
    {
     "cell_type": "code",
     "collapsed": false,
     "input": [
      "print sc.__doc__"
     ],
     "language": "python",
     "metadata": {},
     "outputs": []
    },
    {
     "cell_type": "code",
     "collapsed": false,
     "input": [
      "beowulf = sc.textFile('beowulf.txt.gz', 10).cache()"
     ],
     "language": "python",
     "metadata": {},
     "outputs": []
    },
    {
     "cell_type": "code",
     "collapsed": false,
     "input": [
      "type(beowulf)"
     ],
     "language": "python",
     "metadata": {},
     "outputs": []
    },
    {
     "cell_type": "code",
     "collapsed": false,
     "input": [
      "print beowulf.__doc__"
     ],
     "language": "python",
     "metadata": {},
     "outputs": []
    },
    {
     "cell_type": "code",
     "collapsed": false,
     "input": [
      "beowulf.take(10)"
     ],
     "language": "python",
     "metadata": {},
     "outputs": []
    },
    {
     "cell_type": "code",
     "collapsed": false,
     "input": [
      "beowulf.count()"
     ],
     "language": "python",
     "metadata": {},
     "outputs": []
    },
    {
     "cell_type": "code",
     "collapsed": false,
     "input": [
      "beowulf.flatMap(lambda x: x.split()).count()"
     ],
     "language": "python",
     "metadata": {},
     "outputs": []
    },
    {
     "cell_type": "code",
     "collapsed": false,
     "input": [
      "from nltk.corpus import stopwords\n",
      "englishStopWords = stopwords.words('english')\n",
      "mostUsedWords = beowulf\\\n",
      "    .flatMap(lambda x: [x.lower() for x in x.split()])\\\n",
      "    .filter(lambda x: x not in englishStopWords)\\\n",
      "    .map(lambda x: (x, 1))\\\n",
      "    .reduceByKey(lambda x, y: x + y)\\\n",
      "    .sortBy(lambda (_ , count): - count)\\\n",
      "    .take(20)\n",
      "mostUsedWords"
     ],
     "language": "python",
     "metadata": {},
     "outputs": []
    },
    {
     "cell_type": "code",
     "collapsed": false,
     "input": [
      "%pylab inline"
     ],
     "language": "python",
     "metadata": {},
     "outputs": []
    },
    {
     "cell_type": "code",
     "collapsed": false,
     "input": [
      "xticks = range(len(mostUsedWords))\n",
      "plt.bar(xticks, [i for _, i in mostUsedWords])\n",
      "plt.xticks(xticks, [w for w, _ in mostUsedWords], ha='center', rotation=50)\n",
      "None"
     ],
     "language": "python",
     "metadata": {},
     "outputs": []
    }
   ],
   "metadata": {}
  }
 ]
}