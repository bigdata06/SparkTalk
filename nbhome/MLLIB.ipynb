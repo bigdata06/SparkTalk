{
 "metadata": {
  "name": "",
  "signature": "sha256:0d7c1ea9590ba0f1294133b59206809dfd5a60350dcecc85a472cd6ae420f4f6"
 },
 "nbformat": 3,
 "nbformat_minor": 0,
 "worksheets": [
  {
   "cells": [
    {
     "cell_type": "code",
     "collapsed": false,
     "input": [
      "data = sc.textFile(\"titanic.csv.gz\")"
     ],
     "language": "python",
     "metadata": {},
     "outputs": [],
     "prompt_number": 83
    },
    {
     "cell_type": "code",
     "collapsed": false,
     "input": [
      "data.take(5)"
     ],
     "language": "python",
     "metadata": {},
     "outputs": [
      {
       "metadata": {},
       "output_type": "pyout",
       "prompt_number": 84,
       "text": [
        "[u'PassengerId;Survived;Pclass;Name;Sex;Age;SibSp;Parch;Ticket;Fare;Cabin;Embarked',\n",
        " u'1;0;3;Braund, Mr. Owen Harris;male;22;1;0;A/5 21171;7.25;;S',\n",
        " u'2;1;1;Cumings, Mrs. John Bradley (Florence Briggs Thayer);female;38;1;0;PC 17599;71.2833;C85;C',\n",
        " u'3;1;3;Heikkinen, Miss. Laina;female;26;0;0;STON/O2. 3101282;7.925;;S',\n",
        " u'4;1;1;Futrelle, Mrs. Jacques Heath (Lily May Peel);female;35;1;0;113803;53.1;C123;S']"
       ]
      }
     ],
     "prompt_number": 84
    },
    {
     "cell_type": "code",
     "collapsed": false,
     "input": [
      "[i for i in enumerate(data.take(1)[0].split(';'))]"
     ],
     "language": "python",
     "metadata": {},
     "outputs": []
    },
    {
     "cell_type": "code",
     "collapsed": false,
     "input": [
      "from collections import namedtuple"
     ],
     "language": "python",
     "metadata": {},
     "outputs": []
    },
    {
     "cell_type": "code",
     "collapsed": false,
     "input": [
      "PassengerRecord = namedtuple('PassengerRecord',\n",
      "                             ['survived', 'sex', 'age', 'pClass', 'sibSp'])\n",
      "def parseLine(line):\n",
      "    parts = line.split(';')\n",
      "    try:\n",
      "        yield PassengerRecord(int(parts[1]), parts[4], \n",
      "                              int(parts[5]), int(parts[2]),\n",
      "                              int(parts[6]))\n",
      "    except ValueError:\n",
      "        return\n",
      "parsedRecords = data.flatMap(parseLine)"
     ],
     "language": "python",
     "metadata": {},
     "outputs": []
    },
    {
     "cell_type": "code",
     "collapsed": false,
     "input": [
      "parsedRecords.take(5)"
     ],
     "language": "python",
     "metadata": {},
     "outputs": []
    },
    {
     "cell_type": "code",
     "collapsed": false,
     "input": [
      "from pyspark.mllib.classification import LogisticRegressionWithLBFGS\n",
      "from pyspark.mllib.regression import LabeledPoint"
     ],
     "language": "python",
     "metadata": {},
     "outputs": []
    },
    {
     "cell_type": "code",
     "collapsed": false,
     "input": [
      "class OneHotEncoder(object):\n",
      "    def __init__(self, levels):\n",
      "        self.levels = levels[:-1]\n",
      "        self.indexOf = {level: i for i, level in enumerate(self.levels)}\n",
      "        self.N = len(self.levels)\n",
      "    def __call__(self, x):\n",
      "        result = [0] * self.N\n",
      "        i = self.indexOf.get(x, self.N)\n",
      "        if i < self.N:\n",
      "            result[i] = 1\n",
      "        return result\n",
      "def recordToLabeledPoint(record):\n",
      "    genderEncoder = OneHotEncoder(['male', 'female'])\n",
      "    classEncoder = OneHotEncoder([1,2,3])\n",
      "    return LabeledPoint(record.survived,\n",
      "                        [record.age, record.sibSp] \\\n",
      "                        + genderEncoder(record.sex)\\\n",
      "                        + classEncoder(record.pClass))\n",
      "encoded = parsedRecords.map(recordToLabeledPoint)"
     ],
     "language": "python",
     "metadata": {},
     "outputs": []
    },
    {
     "cell_type": "code",
     "collapsed": false,
     "input": [
      "train, test = encoded.randomSplit([80, 20])\n",
      "model = LogisticRegressionWithLBFGS.train(train)"
     ],
     "language": "python",
     "metadata": {},
     "outputs": []
    },
    {
     "cell_type": "code",
     "collapsed": false,
     "input": [
      "testResults = test.map(lambda x: 1 if x.label == model.predict(x.features) else 0)"
     ],
     "language": "python",
     "metadata": {},
     "outputs": []
    },
    {
     "cell_type": "code",
     "collapsed": false,
     "input": [
      "print \"Test error:\", 1 - testResults.sum() / float(testResults.count())"
     ],
     "language": "python",
     "metadata": {},
     "outputs": []
    },
    {
     "cell_type": "code",
     "collapsed": false,
     "input": [
      "names = ['age', 'siblings', 'male', '1st class', '2nd class']\n",
      "for weight, name in zip(model.weights, names):\n",
      "    print \"{0:>10}: {1}\".format(name, weight)"
     ],
     "language": "python",
     "metadata": {},
     "outputs": []
    }
   ],
   "metadata": {}
  }
 ]
}