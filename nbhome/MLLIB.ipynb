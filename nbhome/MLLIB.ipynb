{
 "metadata": {
  "name": "",
  "signature": "sha256:b4ed04753646c3cb8d6ee3933190c6eb180b19f924fe21369757c47f373dd85d"
 },
 "nbformat": 3,
 "nbformat_minor": 0,
 "worksheets": [
  {
   "cells": [
    {
     "cell_type": "code",
     "collapsed": false,
     "input": [
      "data = sc.textFile(\"titanic.csv.gz\")"
     ],
     "language": "python",
     "metadata": {},
     "outputs": [],
     "prompt_number": 1
    },
    {
     "cell_type": "code",
     "collapsed": false,
     "input": [
      "[i for i in enumerate(data.take(1)[0].split(';'))]"
     ],
     "language": "python",
     "metadata": {},
     "outputs": [
      {
       "metadata": {},
       "output_type": "pyout",
       "prompt_number": 2,
       "text": [
        "[(0, u'PassengerId'),\n",
        " (1, u'Survived'),\n",
        " (2, u'Pclass'),\n",
        " (3, u'Name'),\n",
        " (4, u'Sex'),\n",
        " (5, u'Age'),\n",
        " (6, u'SibSp'),\n",
        " (7, u'Parch'),\n",
        " (8, u'Ticket'),\n",
        " (9, u'Fare'),\n",
        " (10, u'Cabin'),\n",
        " (11, u'Embarked')]"
       ]
      }
     ],
     "prompt_number": 2
    },
    {
     "cell_type": "code",
     "collapsed": false,
     "input": [
      "from collections import namedtuple"
     ],
     "language": "python",
     "metadata": {},
     "outputs": [],
     "prompt_number": 3
    },
    {
     "cell_type": "code",
     "collapsed": false,
     "input": [
      "PassengerRecord = namedtuple('PassengerRecord',\n",
      "                             ['survived', 'sex', 'age', 'pClass', 'sibSp'])\n",
      "def parseLine(line):\n",
      "    parts = line.split(';')\n",
      "    try:\n",
      "        yield PassengerRecord(int(parts[1]), parts[4], \n",
      "                              int(parts[5]), int(parts[2]),\n",
      "                              int(parts[6]))\n",
      "    except ValueError:\n",
      "        return\n",
      "parsedRecords = data.flatMap(parseLine)"
     ],
     "language": "python",
     "metadata": {},
     "outputs": [],
     "prompt_number": 4
    },
    {
     "cell_type": "code",
     "collapsed": false,
     "input": [
      "parsedRecords.take(5)"
     ],
     "language": "python",
     "metadata": {},
     "outputs": [
      {
       "metadata": {},
       "output_type": "pyout",
       "prompt_number": 5,
       "text": [
        "[PassengerRecord(survived=0, sex=u'male', age=22, pClass=3, sibSp=1),\n",
        " PassengerRecord(survived=1, sex=u'female', age=38, pClass=1, sibSp=1),\n",
        " PassengerRecord(survived=1, sex=u'female', age=26, pClass=3, sibSp=0),\n",
        " PassengerRecord(survived=1, sex=u'female', age=35, pClass=1, sibSp=1),\n",
        " PassengerRecord(survived=0, sex=u'male', age=35, pClass=3, sibSp=0)]"
       ]
      }
     ],
     "prompt_number": 5
    },
    {
     "cell_type": "code",
     "collapsed": false,
     "input": [
      "from pyspark.mllib.classification import LogisticRegressionWithLBFGS\n",
      "from pyspark.mllib.regression import LabeledPoint"
     ],
     "language": "python",
     "metadata": {},
     "outputs": [],
     "prompt_number": 6
    },
    {
     "cell_type": "code",
     "collapsed": false,
     "input": [
      "class OneHotEncoder(object):\n",
      "    def __init__(self, levels):\n",
      "        self.levels = levels[:-1]\n",
      "        self.indexOf = {level: i for i, level in enumerate(self.levels)}\n",
      "        self.N = len(self.levels)\n",
      "    def __call__(self, x):\n",
      "        result = [0] * self.N\n",
      "        i = self.indexOf.get(x, self.N)\n",
      "        if i < self.N:\n",
      "            result[i] = 1\n",
      "        return result\n",
      "def recordToLabeledPoint(record):\n",
      "    genderEncoder = OneHotEncoder(['male', 'female'])\n",
      "    classEncoder = OneHotEncoder([1,2,3])\n",
      "    return LabeledPoint(record.survived,\n",
      "                        [record.age, record.sibSp] \\\n",
      "                        + genderEncoder(record.sex)\\\n",
      "                        + classEncoder(record.pClass))\n",
      "encoded = parsedRecords.map(recordToLabeledPoint)"
     ],
     "language": "python",
     "metadata": {},
     "outputs": [],
     "prompt_number": 7
    },
    {
     "cell_type": "code",
     "collapsed": false,
     "input": [
      "train, test = encoded.randomSplit([80, 20])\n",
      "model = LogisticRegressionWithLBFGS.train(train)"
     ],
     "language": "python",
     "metadata": {},
     "outputs": [],
     "prompt_number": 8
    },
    {
     "cell_type": "code",
     "collapsed": false,
     "input": [
      "testResults = test.map(lambda x: 1 if x.label == model.predict(x.features) else 0)"
     ],
     "language": "python",
     "metadata": {},
     "outputs": [],
     "prompt_number": 9
    },
    {
     "cell_type": "code",
     "collapsed": false,
     "input": [
      "print \"Test error:\", 1 - testResults.sum() / float(testResults.count())"
     ],
     "language": "python",
     "metadata": {},
     "outputs": [
      {
       "output_type": "stream",
       "stream": "stdout",
       "text": [
        "Test error: "
       ]
      },
      {
       "output_type": "stream",
       "stream": "stdout",
       "text": [
        "0.185185185185\n"
       ]
      }
     ],
     "prompt_number": 10
    },
    {
     "cell_type": "code",
     "collapsed": false,
     "input": [
      "names = ['age', 'siblings', 'male', '1st class', '2nd class']\n",
      "for weight, name in zip(model.weights, names):\n",
      "    print \"{0:>10}: {1}\".format(name, weight)"
     ],
     "language": "python",
     "metadata": {},
     "outputs": [
      {
       "output_type": "stream",
       "stream": "stdout",
       "text": [
        "       age: -0.00570289715999\n",
        "  siblings: -0.0966152564743\n",
        "      male: -1.99124021435\n",
        " 1st class: 2.08952347626\n",
        " 2nd class: 1.13239311751\n"
       ]
      }
     ],
     "prompt_number": 11
    }
   ],
   "metadata": {}
  }
 ]
}