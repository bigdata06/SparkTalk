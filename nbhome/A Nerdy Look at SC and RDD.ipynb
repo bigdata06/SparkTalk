{
 "metadata": {
  "name": "",
  "signature": "sha256:7d2b577c375b8732c7c0455863d50d8fd2d0fff6608e7da955228376ca9421cf"
 },
 "nbformat": 3,
 "nbformat_minor": 0,
 "worksheets": [
  {
   "cells": [
    {
     "cell_type": "code",
     "collapsed": false,
     "input": [
      "from types import MethodType\n",
      "def showMethods(what):\n",
      "    \"\"\"Prints out all non-private methods of class-instance what.\"\"\"\n",
      "    for attr in dir(what):\n",
      "        if attr.startswith(\"_\"):\n",
      "            continue\n",
      "        if type(getattr(what, attr)) == MethodType:\n",
      "            print attr, getattr(what, attr).__doc__, \"\\n\""
     ],
     "language": "python",
     "metadata": {},
     "outputs": []
    },
    {
     "cell_type": "code",
     "collapsed": false,
     "input": [
      "showMethods(sc)"
     ],
     "language": "python",
     "metadata": {},
     "outputs": []
    },
    {
     "cell_type": "code",
     "collapsed": false,
     "input": [
      "rdd = sc.parallelize([1])\n",
      "showMethods(rdd)"
     ],
     "language": "python",
     "metadata": {},
     "outputs": []
    }
   ],
   "metadata": {}
  }
 ]
}